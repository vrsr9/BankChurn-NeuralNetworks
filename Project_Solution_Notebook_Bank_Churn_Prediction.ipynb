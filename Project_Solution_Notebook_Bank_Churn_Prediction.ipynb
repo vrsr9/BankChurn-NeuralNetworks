{
 "cells": [
  {
   "cell_type": "markdown",
   "metadata": {
    "colab_type": "text",
    "id": "DRX9f5_6HUNP"
   },
   "source": [
    "## Project - Bank Churn prediction\n",
    "\n",
    " \n",
    "### In this project, we aim to predict the churn for a bank, i.e, given a Bank customer, can we build a classifier which can determine whether they will leave or not using Neural networks?\n",
    "\n",
    "### Objective:\n",
    "Given a Bank customer, build a neural network based classifier that can determine whether they will leave or not in the next 6 months. \n",
    "### Context:\n",
    "Businesses like banks which provide service have to worry about problem of 'Churn' i.e. customers leaving and joining another service provider. It is important to understand which aspects of the service influence a customer's decision in this regard. Management can concentrate efforts on improvement of service, keeping in mind these priorities.\n",
    "\n",
    "### Data Description:\n",
    "The case study is from an open-source dataset from Kaggle.The dataset contains 10,000 sample points with 14 distinct features such as CustomerId, CreditScore, Geography, Gender, Age, Tenure, Balance etc.\n",
    "Link to the Kaggle project site:https://www.kaggle.com/barelydedicated/bank-customer-churn-modelingPoints \n",
    "\n",
    "### Distribution:\n",
    "The points distribution for this case is as follows:\n",
    "- 1. Read the dataset\n",
    "- 2. Drop the columns which are unique for all users like IDs (5 points)\n",
    "- 3. Distinguish the feature and target set (5 points)\n",
    "- 4. Divide the data set into trainingand test sets (5 points)\n",
    "- 5. Normalize the train and test data(10points)\n",
    "- 6. Initialize & build the model. Identify the points of improvement and implement the same the same.(20)\n",
    "- 7. Predict the results using 0.5 as a threshold (10points)8. Print the Accuracy score and confusion matrix (5 points)"
   ]
  },
  {
   "cell_type": "code",
   "execution_count": 1,
   "metadata": {
    "colab": {
     "base_uri": "https://localhost:8080/",
     "height": 1000
    },
    "colab_type": "code",
    "id": "szwhm3mUqvJE",
    "outputId": "b6743831-df21-4ad3-ba33-8a41af061b0e"
   },
   "outputs": [
    {
     "name": "stdout",
     "output_type": "stream",
     "text": [
      "Collecting tensorflow==2.0\n",
      "\u001b[?25l  Downloading https://files.pythonhosted.org/packages/46/0f/7bd55361168bb32796b360ad15a25de6966c9c1beb58a8e30c01c8279862/tensorflow-2.0.0-cp36-cp36m-manylinux2010_x86_64.whl (86.3MB)\n",
      "\u001b[K     |████████████████████████████████| 86.3MB 67kB/s \n",
      "\u001b[?25hRequirement already satisfied: astor>=0.6.0 in /usr/local/lib/python3.6/dist-packages (from tensorflow==2.0) (0.8.1)\n",
      "Requirement already satisfied: absl-py>=0.7.0 in /usr/local/lib/python3.6/dist-packages (from tensorflow==2.0) (0.9.0)\n",
      "Collecting gast==0.2.2\n",
      "  Downloading https://files.pythonhosted.org/packages/4e/35/11749bf99b2d4e3cceb4d55ca22590b0d7c2c62b9de38ac4a4a7f4687421/gast-0.2.2.tar.gz\n",
      "Requirement already satisfied: wheel>=0.26 in /usr/local/lib/python3.6/dist-packages (from tensorflow==2.0) (0.34.2)\n",
      "Requirement already satisfied: wrapt>=1.11.1 in /usr/local/lib/python3.6/dist-packages (from tensorflow==2.0) (1.12.1)\n",
      "Requirement already satisfied: keras-applications>=1.0.8 in /usr/local/lib/python3.6/dist-packages (from tensorflow==2.0) (1.0.8)\n",
      "Collecting tensorboard<2.1.0,>=2.0.0\n",
      "\u001b[?25l  Downloading https://files.pythonhosted.org/packages/76/54/99b9d5d52d5cb732f099baaaf7740403e83fe6b0cedde940fabd2b13d75a/tensorboard-2.0.2-py3-none-any.whl (3.8MB)\n",
      "\u001b[K     |████████████████████████████████| 3.8MB 36.9MB/s \n",
      "\u001b[?25hRequirement already satisfied: six>=1.10.0 in /usr/local/lib/python3.6/dist-packages (from tensorflow==2.0) (1.12.0)\n",
      "Requirement already satisfied: google-pasta>=0.1.6 in /usr/local/lib/python3.6/dist-packages (from tensorflow==2.0) (0.2.0)\n",
      "Requirement already satisfied: keras-preprocessing>=1.0.5 in /usr/local/lib/python3.6/dist-packages (from tensorflow==2.0) (1.1.0)\n",
      "Requirement already satisfied: opt-einsum>=2.3.2 in /usr/local/lib/python3.6/dist-packages (from tensorflow==2.0) (3.2.0)\n",
      "Requirement already satisfied: protobuf>=3.6.1 in /usr/local/lib/python3.6/dist-packages (from tensorflow==2.0) (3.10.0)\n",
      "Requirement already satisfied: grpcio>=1.8.6 in /usr/local/lib/python3.6/dist-packages (from tensorflow==2.0) (1.27.2)\n",
      "Collecting tensorflow-estimator<2.1.0,>=2.0.0\n",
      "\u001b[?25l  Downloading https://files.pythonhosted.org/packages/fc/08/8b927337b7019c374719145d1dceba21a8bb909b93b1ad6f8fb7d22c1ca1/tensorflow_estimator-2.0.1-py2.py3-none-any.whl (449kB)\n",
      "\u001b[K     |████████████████████████████████| 450kB 46.0MB/s \n",
      "\u001b[?25hRequirement already satisfied: termcolor>=1.1.0 in /usr/local/lib/python3.6/dist-packages (from tensorflow==2.0) (1.1.0)\n",
      "Requirement already satisfied: numpy<2.0,>=1.16.0 in /usr/local/lib/python3.6/dist-packages (from tensorflow==2.0) (1.18.2)\n",
      "Requirement already satisfied: h5py in /usr/local/lib/python3.6/dist-packages (from keras-applications>=1.0.8->tensorflow==2.0) (2.10.0)\n",
      "Requirement already satisfied: google-auth<2,>=1.6.3 in /usr/local/lib/python3.6/dist-packages (from tensorboard<2.1.0,>=2.0.0->tensorflow==2.0) (1.7.2)\n",
      "Requirement already satisfied: werkzeug>=0.11.15 in /usr/local/lib/python3.6/dist-packages (from tensorboard<2.1.0,>=2.0.0->tensorflow==2.0) (1.0.0)\n",
      "Requirement already satisfied: google-auth-oauthlib<0.5,>=0.4.1 in /usr/local/lib/python3.6/dist-packages (from tensorboard<2.1.0,>=2.0.0->tensorflow==2.0) (0.4.1)\n",
      "Requirement already satisfied: setuptools>=41.0.0 in /usr/local/lib/python3.6/dist-packages (from tensorboard<2.1.0,>=2.0.0->tensorflow==2.0) (46.0.0)\n",
      "Requirement already satisfied: requests<3,>=2.21.0 in /usr/local/lib/python3.6/dist-packages (from tensorboard<2.1.0,>=2.0.0->tensorflow==2.0) (2.21.0)\n",
      "Requirement already satisfied: markdown>=2.6.8 in /usr/local/lib/python3.6/dist-packages (from tensorboard<2.1.0,>=2.0.0->tensorflow==2.0) (3.2.1)\n",
      "Requirement already satisfied: cachetools<3.2,>=2.0.0 in /usr/local/lib/python3.6/dist-packages (from google-auth<2,>=1.6.3->tensorboard<2.1.0,>=2.0.0->tensorflow==2.0) (3.1.1)\n",
      "Requirement already satisfied: rsa<4.1,>=3.1.4 in /usr/local/lib/python3.6/dist-packages (from google-auth<2,>=1.6.3->tensorboard<2.1.0,>=2.0.0->tensorflow==2.0) (4.0)\n",
      "Requirement already satisfied: pyasn1-modules>=0.2.1 in /usr/local/lib/python3.6/dist-packages (from google-auth<2,>=1.6.3->tensorboard<2.1.0,>=2.0.0->tensorflow==2.0) (0.2.8)\n",
      "Requirement already satisfied: requests-oauthlib>=0.7.0 in /usr/local/lib/python3.6/dist-packages (from google-auth-oauthlib<0.5,>=0.4.1->tensorboard<2.1.0,>=2.0.0->tensorflow==2.0) (1.3.0)\n",
      "Requirement already satisfied: certifi>=2017.4.17 in /usr/local/lib/python3.6/dist-packages (from requests<3,>=2.21.0->tensorboard<2.1.0,>=2.0.0->tensorflow==2.0) (2019.11.28)\n",
      "Requirement already satisfied: idna<2.9,>=2.5 in /usr/local/lib/python3.6/dist-packages (from requests<3,>=2.21.0->tensorboard<2.1.0,>=2.0.0->tensorflow==2.0) (2.8)\n",
      "Requirement already satisfied: urllib3<1.25,>=1.21.1 in /usr/local/lib/python3.6/dist-packages (from requests<3,>=2.21.0->tensorboard<2.1.0,>=2.0.0->tensorflow==2.0) (1.24.3)\n",
      "Requirement already satisfied: chardet<3.1.0,>=3.0.2 in /usr/local/lib/python3.6/dist-packages (from requests<3,>=2.21.0->tensorboard<2.1.0,>=2.0.0->tensorflow==2.0) (3.0.4)\n",
      "Requirement already satisfied: pyasn1>=0.1.3 in /usr/local/lib/python3.6/dist-packages (from rsa<4.1,>=3.1.4->google-auth<2,>=1.6.3->tensorboard<2.1.0,>=2.0.0->tensorflow==2.0) (0.4.8)\n",
      "Requirement already satisfied: oauthlib>=3.0.0 in /usr/local/lib/python3.6/dist-packages (from requests-oauthlib>=0.7.0->google-auth-oauthlib<0.5,>=0.4.1->tensorboard<2.1.0,>=2.0.0->tensorflow==2.0) (3.1.0)\n",
      "Building wheels for collected packages: gast\n",
      "  Building wheel for gast (setup.py) ... \u001b[?25l\u001b[?25hdone\n",
      "  Created wheel for gast: filename=gast-0.2.2-cp36-none-any.whl size=7540 sha256=01bc436098ac3a0be52e90fa06704ec65f7af2571bcdff549cadf534a89d2b05\n",
      "  Stored in directory: /root/.cache/pip/wheels/5c/2e/7e/a1d4d4fcebe6c381f378ce7743a3ced3699feb89bcfbdadadd\n",
      "Successfully built gast\n",
      "Installing collected packages: gast, tensorboard, tensorflow-estimator, tensorflow\n",
      "  Found existing installation: gast 0.3.3\n",
      "    Uninstalling gast-0.3.3:\n",
      "      Successfully uninstalled gast-0.3.3\n",
      "  Found existing installation: tensorboard 1.15.0\n",
      "    Uninstalling tensorboard-1.15.0:\n",
      "      Successfully uninstalled tensorboard-1.15.0\n",
      "  Found existing installation: tensorflow-estimator 1.15.1\n",
      "    Uninstalling tensorflow-estimator-1.15.1:\n",
      "      Successfully uninstalled tensorflow-estimator-1.15.1\n",
      "  Found existing installation: tensorflow 1.15.2\n",
      "    Uninstalling tensorflow-1.15.2:\n",
      "      Successfully uninstalled tensorflow-1.15.2\n",
      "Successfully installed gast-0.2.2 tensorboard-2.1.1 tensorflow-2.2.0rc1 tensorflow-estimator-2.2.0rc0\n"
     ]
    }
   ],
   "source": [
    "!pip install tensorflow==2.0"
   ]
  },
  {
   "cell_type": "code",
   "execution_count": 37,
   "metadata": {
    "colab": {
     "base_uri": "https://localhost:8080/",
     "height": 34
    },
    "colab_type": "code",
    "id": "j0mRT6iJrkgJ",
    "outputId": "0eb85890-330c-4872-a192-72c416003b03"
   },
   "outputs": [
    {
     "name": "stdout",
     "output_type": "stream",
     "text": [
      "2.0.0\n"
     ]
    }
   ],
   "source": [
    "import tensorflow as tf\n",
    "print(tf.__version__)"
   ]
  },
  {
   "cell_type": "code",
   "execution_count": 0,
   "metadata": {
    "colab": {},
    "colab_type": "code",
    "id": "IfeZclzIHUNs"
   },
   "outputs": [],
   "source": [
    "import pandas as pd\n",
    "from tensorflow.keras.models import Sequential\n",
    "from tensorflow.keras.layers import Dense\n",
    "from sklearn import model_selection\n",
    "from sklearn.model_selection import train_test_split\n",
    "from sklearn.preprocessing import LabelEncoder, OneHotEncoder\n",
    "from sklearn.compose import ColumnTransformer\n",
    "from sklearn.metrics import confusion_matrix"
   ]
  },
  {
   "cell_type": "code",
   "execution_count": 5,
   "metadata": {
    "colab": {
     "base_uri": "https://localhost:8080/",
     "height": 125
    },
    "colab_type": "code",
    "id": "MBVYdw85sEmE",
    "outputId": "80858173-cf0f-4e64-ae36-d4defc32c274"
   },
   "outputs": [
    {
     "name": "stdout",
     "output_type": "stream",
     "text": [
      "Go to this URL in a browser: https://accounts.google.com/o/oauth2/auth?client_id=947318989803-6bn6qk8qdgf4n4g3pfee6491hc0brc4i.apps.googleusercontent.com&redirect_uri=urn%3aietf%3awg%3aoauth%3a2.0%3aoob&response_type=code&scope=email%20https%3a%2f%2fwww.googleapis.com%2fauth%2fdocs.test%20https%3a%2f%2fwww.googleapis.com%2fauth%2fdrive%20https%3a%2f%2fwww.googleapis.com%2fauth%2fdrive.photos.readonly%20https%3a%2f%2fwww.googleapis.com%2fauth%2fpeopleapi.readonly\n",
      "\n",
      "Enter your authorization code:\n",
      "··········\n",
      "Mounted at /content/drive\n"
     ]
    }
   ],
   "source": [
    "from google.colab import drive\n",
    "drive.mount('/content/drive')"
   ]
  },
  {
   "cell_type": "markdown",
   "metadata": {
    "colab_type": "text",
    "id": "z7ubXtC8HUOA"
   },
   "source": [
    "#### Read the dataset"
   ]
  },
  {
   "cell_type": "code",
   "execution_count": 0,
   "metadata": {
    "colab": {},
    "colab_type": "code",
    "id": "1QJLp3P3HUOC"
   },
   "outputs": [],
   "source": [
    "ds = pd.read_csv(\"/content/drive/My Drive/Colab Notebooks/bank.csv\")"
   ]
  },
  {
   "cell_type": "code",
   "execution_count": 8,
   "metadata": {
    "colab": {
     "base_uri": "https://localhost:8080/",
     "height": 347
    },
    "colab_type": "code",
    "id": "nCfASHJ8HUOS",
    "outputId": "6f1e10ff-65fc-46dd-cbc9-af007044b636"
   },
   "outputs": [
    {
     "data": {
      "text/html": [
       "<div>\n",
       "<style scoped>\n",
       "    .dataframe tbody tr th:only-of-type {\n",
       "        vertical-align: middle;\n",
       "    }\n",
       "\n",
       "    .dataframe tbody tr th {\n",
       "        vertical-align: top;\n",
       "    }\n",
       "\n",
       "    .dataframe thead th {\n",
       "        text-align: right;\n",
       "    }\n",
       "</style>\n",
       "<table border=\"1\" class=\"dataframe\">\n",
       "  <thead>\n",
       "    <tr style=\"text-align: right;\">\n",
       "      <th></th>\n",
       "      <th>RowNumber</th>\n",
       "      <th>CustomerId</th>\n",
       "      <th>Surname</th>\n",
       "      <th>CreditScore</th>\n",
       "      <th>Geography</th>\n",
       "      <th>Gender</th>\n",
       "      <th>Age</th>\n",
       "      <th>Tenure</th>\n",
       "      <th>Balance</th>\n",
       "      <th>NumOfProducts</th>\n",
       "      <th>HasCrCard</th>\n",
       "      <th>IsActiveMember</th>\n",
       "      <th>EstimatedSalary</th>\n",
       "      <th>Exited</th>\n",
       "    </tr>\n",
       "  </thead>\n",
       "  <tbody>\n",
       "    <tr>\n",
       "      <th>0</th>\n",
       "      <td>1</td>\n",
       "      <td>15634602</td>\n",
       "      <td>Hargrave</td>\n",
       "      <td>619</td>\n",
       "      <td>France</td>\n",
       "      <td>Female</td>\n",
       "      <td>42</td>\n",
       "      <td>2</td>\n",
       "      <td>0.00</td>\n",
       "      <td>1</td>\n",
       "      <td>1</td>\n",
       "      <td>1</td>\n",
       "      <td>101348.88</td>\n",
       "      <td>1</td>\n",
       "    </tr>\n",
       "    <tr>\n",
       "      <th>1</th>\n",
       "      <td>2</td>\n",
       "      <td>15647311</td>\n",
       "      <td>Hill</td>\n",
       "      <td>608</td>\n",
       "      <td>Spain</td>\n",
       "      <td>Female</td>\n",
       "      <td>41</td>\n",
       "      <td>1</td>\n",
       "      <td>83807.86</td>\n",
       "      <td>1</td>\n",
       "      <td>0</td>\n",
       "      <td>1</td>\n",
       "      <td>112542.58</td>\n",
       "      <td>0</td>\n",
       "    </tr>\n",
       "    <tr>\n",
       "      <th>2</th>\n",
       "      <td>3</td>\n",
       "      <td>15619304</td>\n",
       "      <td>Onio</td>\n",
       "      <td>502</td>\n",
       "      <td>France</td>\n",
       "      <td>Female</td>\n",
       "      <td>42</td>\n",
       "      <td>8</td>\n",
       "      <td>159660.80</td>\n",
       "      <td>3</td>\n",
       "      <td>1</td>\n",
       "      <td>0</td>\n",
       "      <td>113931.57</td>\n",
       "      <td>1</td>\n",
       "    </tr>\n",
       "    <tr>\n",
       "      <th>3</th>\n",
       "      <td>4</td>\n",
       "      <td>15701354</td>\n",
       "      <td>Boni</td>\n",
       "      <td>699</td>\n",
       "      <td>France</td>\n",
       "      <td>Female</td>\n",
       "      <td>39</td>\n",
       "      <td>1</td>\n",
       "      <td>0.00</td>\n",
       "      <td>2</td>\n",
       "      <td>0</td>\n",
       "      <td>0</td>\n",
       "      <td>93826.63</td>\n",
       "      <td>0</td>\n",
       "    </tr>\n",
       "    <tr>\n",
       "      <th>4</th>\n",
       "      <td>5</td>\n",
       "      <td>15737888</td>\n",
       "      <td>Mitchell</td>\n",
       "      <td>850</td>\n",
       "      <td>Spain</td>\n",
       "      <td>Female</td>\n",
       "      <td>43</td>\n",
       "      <td>2</td>\n",
       "      <td>125510.82</td>\n",
       "      <td>1</td>\n",
       "      <td>1</td>\n",
       "      <td>1</td>\n",
       "      <td>79084.10</td>\n",
       "      <td>0</td>\n",
       "    </tr>\n",
       "    <tr>\n",
       "      <th>5</th>\n",
       "      <td>6</td>\n",
       "      <td>15574012</td>\n",
       "      <td>Chu</td>\n",
       "      <td>645</td>\n",
       "      <td>Spain</td>\n",
       "      <td>Male</td>\n",
       "      <td>44</td>\n",
       "      <td>8</td>\n",
       "      <td>113755.78</td>\n",
       "      <td>2</td>\n",
       "      <td>1</td>\n",
       "      <td>0</td>\n",
       "      <td>149756.71</td>\n",
       "      <td>1</td>\n",
       "    </tr>\n",
       "    <tr>\n",
       "      <th>6</th>\n",
       "      <td>7</td>\n",
       "      <td>15592531</td>\n",
       "      <td>Bartlett</td>\n",
       "      <td>822</td>\n",
       "      <td>France</td>\n",
       "      <td>Male</td>\n",
       "      <td>50</td>\n",
       "      <td>7</td>\n",
       "      <td>0.00</td>\n",
       "      <td>2</td>\n",
       "      <td>1</td>\n",
       "      <td>1</td>\n",
       "      <td>10062.80</td>\n",
       "      <td>0</td>\n",
       "    </tr>\n",
       "    <tr>\n",
       "      <th>7</th>\n",
       "      <td>8</td>\n",
       "      <td>15656148</td>\n",
       "      <td>Obinna</td>\n",
       "      <td>376</td>\n",
       "      <td>Germany</td>\n",
       "      <td>Female</td>\n",
       "      <td>29</td>\n",
       "      <td>4</td>\n",
       "      <td>115046.74</td>\n",
       "      <td>4</td>\n",
       "      <td>1</td>\n",
       "      <td>0</td>\n",
       "      <td>119346.88</td>\n",
       "      <td>1</td>\n",
       "    </tr>\n",
       "    <tr>\n",
       "      <th>8</th>\n",
       "      <td>9</td>\n",
       "      <td>15792365</td>\n",
       "      <td>He</td>\n",
       "      <td>501</td>\n",
       "      <td>France</td>\n",
       "      <td>Male</td>\n",
       "      <td>44</td>\n",
       "      <td>4</td>\n",
       "      <td>142051.07</td>\n",
       "      <td>2</td>\n",
       "      <td>0</td>\n",
       "      <td>1</td>\n",
       "      <td>74940.50</td>\n",
       "      <td>0</td>\n",
       "    </tr>\n",
       "    <tr>\n",
       "      <th>9</th>\n",
       "      <td>10</td>\n",
       "      <td>15592389</td>\n",
       "      <td>H?</td>\n",
       "      <td>684</td>\n",
       "      <td>France</td>\n",
       "      <td>Male</td>\n",
       "      <td>27</td>\n",
       "      <td>2</td>\n",
       "      <td>134603.88</td>\n",
       "      <td>1</td>\n",
       "      <td>1</td>\n",
       "      <td>1</td>\n",
       "      <td>71725.73</td>\n",
       "      <td>0</td>\n",
       "    </tr>\n",
       "  </tbody>\n",
       "</table>\n",
       "</div>"
      ],
      "text/plain": [
       "   RowNumber  CustomerId   Surname  ...  IsActiveMember EstimatedSalary Exited\n",
       "0          1    15634602  Hargrave  ...               1       101348.88      1\n",
       "1          2    15647311      Hill  ...               1       112542.58      0\n",
       "2          3    15619304      Onio  ...               0       113931.57      1\n",
       "3          4    15701354      Boni  ...               0        93826.63      0\n",
       "4          5    15737888  Mitchell  ...               1        79084.10      0\n",
       "5          6    15574012       Chu  ...               0       149756.71      1\n",
       "6          7    15592531  Bartlett  ...               1        10062.80      0\n",
       "7          8    15656148    Obinna  ...               0       119346.88      1\n",
       "8          9    15792365        He  ...               1        74940.50      0\n",
       "9         10    15592389        H?  ...               1        71725.73      0\n",
       "\n",
       "[10 rows x 14 columns]"
      ]
     },
     "execution_count": 8,
     "metadata": {
      "tags": []
     },
     "output_type": "execute_result"
    }
   ],
   "source": [
    "ds.head(10)"
   ]
  },
  {
   "cell_type": "markdown",
   "metadata": {
    "colab_type": "text",
    "id": "BsBwLHcmHUOg"
   },
   "source": [
    "#### Drop the columns which are unique for all users like IDs"
   ]
  },
  {
   "cell_type": "code",
   "execution_count": 9,
   "metadata": {
    "colab": {
     "base_uri": "https://localhost:8080/",
     "height": 87
    },
    "colab_type": "code",
    "id": "2phjlpsmHUOh",
    "outputId": "bbb08363-6bba-4292-82d1-8f425e8b39a7"
   },
   "outputs": [
    {
     "data": {
      "text/plain": [
       "France     5014\n",
       "Germany    2509\n",
       "Spain      2477\n",
       "Name: Geography, dtype: int64"
      ]
     },
     "execution_count": 9,
     "metadata": {
      "tags": []
     },
     "output_type": "execute_result"
    }
   ],
   "source": [
    "ds['Geography'].value_counts()"
   ]
  },
  {
   "cell_type": "code",
   "execution_count": 0,
   "metadata": {
    "colab": {},
    "colab_type": "code",
    "id": "ivF2RMo6HUOr"
   },
   "outputs": [],
   "source": [
    "#RowNumber #CustomerId and #Surname are unique hence dropping it\n",
    "ds = ds.drop(['RowNumber', 'CustomerId', 'Surname'], axis=1)"
   ]
  },
  {
   "cell_type": "code",
   "execution_count": 11,
   "metadata": {
    "colab": {
     "base_uri": "https://localhost:8080/",
     "height": 301
    },
    "colab_type": "code",
    "id": "owLb0T9WHUO0",
    "outputId": "b6d0ba03-a2e3-4344-f6e6-1522db4f42f8"
   },
   "outputs": [
    {
     "name": "stdout",
     "output_type": "stream",
     "text": [
      "<class 'pandas.core.frame.DataFrame'>\n",
      "RangeIndex: 10000 entries, 0 to 9999\n",
      "Data columns (total 11 columns):\n",
      "CreditScore        10000 non-null int64\n",
      "Geography          10000 non-null object\n",
      "Gender             10000 non-null object\n",
      "Age                10000 non-null int64\n",
      "Tenure             10000 non-null int64\n",
      "Balance            10000 non-null float64\n",
      "NumOfProducts      10000 non-null int64\n",
      "HasCrCard          10000 non-null int64\n",
      "IsActiveMember     10000 non-null int64\n",
      "EstimatedSalary    10000 non-null float64\n",
      "Exited             10000 non-null int64\n",
      "dtypes: float64(2), int64(7), object(2)\n",
      "memory usage: 859.5+ KB\n"
     ]
    }
   ],
   "source": [
    "ds.info()"
   ]
  },
  {
   "cell_type": "markdown",
   "metadata": {
    "colab_type": "text",
    "id": "CUXPaUwZHUO8"
   },
   "source": [
    "#### Distinguish the feature and target set"
   ]
  },
  {
   "cell_type": "code",
   "execution_count": 0,
   "metadata": {
    "colab": {},
    "colab_type": "code",
    "id": "VTb3JwlaHUO-"
   },
   "outputs": [],
   "source": [
    "X = ds.iloc[:,0:10].values # Credit Score through Estimated Salary\n",
    "y = ds.iloc[:,10].values # Exited"
   ]
  },
  {
   "cell_type": "code",
   "execution_count": 13,
   "metadata": {
    "colab": {
     "base_uri": "https://localhost:8080/",
     "height": 52
    },
    "colab_type": "code",
    "id": "ikg-QAywHUPE",
    "outputId": "e85fd0b5-d4a5-4275-e0df-6fac8e1b6e37"
   },
   "outputs": [
    {
     "name": "stdout",
     "output_type": "stream",
     "text": [
      "['France' 'Spain' 'France' 'France' 'Spain' 'Spain' 'France' 'Germany'] ... will now become: \n",
      "[0 2 0 0 2 2 0 1]\n"
     ]
    }
   ],
   "source": [
    "# Encoding categorical (string based) data. Country: there are 3 options: France, Spain and Germany\n",
    "# This will convert those strings into scalar values for analysis\n",
    "print(X[:8,1], '... will now become: ')\n",
    "\n",
    "label_X_country_encoder = LabelEncoder()\n",
    "X[:,1] = label_X_country_encoder.fit_transform(X[:,1])\n",
    "print(X[:8,1])"
   ]
  },
  {
   "cell_type": "code",
   "execution_count": 14,
   "metadata": {
    "colab": {
     "base_uri": "https://localhost:8080/",
     "height": 52
    },
    "colab_type": "code",
    "id": "wWrBLaE_HUPJ",
    "outputId": "ff012733-31bd-4b89-fdba-2d5f68e7f57b"
   },
   "outputs": [
    {
     "name": "stdout",
     "output_type": "stream",
     "text": [
      "['Female' 'Female' 'Female' 'Female' 'Female' 'Male'] ... will now become: \n",
      "[0 0 0 0 0 1]\n"
     ]
    }
   ],
   "source": [
    "# We will do the same thing for gender. this will be binary in this dataset\n",
    "print(X[:6,2], '... will now become: ')\n",
    "\n",
    "label_X_gender_encoder = LabelEncoder()\n",
    "X[:,2] = label_X_gender_encoder.fit_transform(X[:,2])\n",
    "print(X[:6,2])"
   ]
  },
  {
   "cell_type": "code",
   "execution_count": 0,
   "metadata": {
    "colab": {},
    "colab_type": "code",
    "id": "9vo-BBy5HUPP"
   },
   "outputs": [],
   "source": [
    "# The Problem here is that we are treating the countries as one variable with ordinal values (0 < 1 < 2). \n",
    "# Therefore, one way to get rid of that problem is to split the countries into respective dimensions.\n",
    "# Gender does not need this as it is binary\n",
    "\n",
    "# Converting the string features into their own dimensions. Gender doesn't matter here because its binary\n",
    "#countryhotencoder = OneHotEncoder(categories = [1]) # 1 is the country column\n",
    "countryhotencoder = ColumnTransformer([(\"countries\", OneHotEncoder(), [1])], remainder=\"passthrough\")\n",
    "X = countryhotencoder.fit_transform(X)\n",
    "#X = countryhotencoder.fit_transform(X).toarray()"
   ]
  },
  {
   "cell_type": "code",
   "execution_count": 27,
   "metadata": {
    "colab": {
     "base_uri": "https://localhost:8080/",
     "height": 34
    },
    "colab_type": "code",
    "id": "RwYnvT59HUPT",
    "outputId": "f544f732-3fe4-4076-805f-9dd53bfde79b"
   },
   "outputs": [
    {
     "data": {
      "text/plain": [
       "(10000, 12)"
      ]
     },
     "execution_count": 27,
     "metadata": {
      "tags": []
     },
     "output_type": "execute_result"
    }
   ],
   "source": [
    "X.shape"
   ]
  },
  {
   "cell_type": "code",
   "execution_count": 28,
   "metadata": {
    "colab": {
     "base_uri": "https://localhost:8080/",
     "height": 141
    },
    "colab_type": "code",
    "id": "KDvpBBbDHUPX",
    "outputId": "c46d3c67-93a5-461f-81ea-8ee09ccbf2fa"
   },
   "outputs": [
    {
     "data": {
      "text/plain": [
       "array([[1.0, 0.0, 0.0, ..., 1, 1, 101348.88],\n",
       "       [0.0, 0.0, 1.0, ..., 0, 1, 112542.58],\n",
       "       [1.0, 0.0, 0.0, ..., 1, 0, 113931.57],\n",
       "       ...,\n",
       "       [1.0, 0.0, 0.0, ..., 0, 1, 42085.58],\n",
       "       [0.0, 1.0, 0.0, ..., 1, 0, 92888.52],\n",
       "       [1.0, 0.0, 0.0, ..., 1, 0, 38190.78]], dtype=object)"
      ]
     },
     "execution_count": 28,
     "metadata": {
      "tags": []
     },
     "output_type": "execute_result"
    }
   ],
   "source": [
    "X"
   ]
  },
  {
   "cell_type": "code",
   "execution_count": 0,
   "metadata": {
    "colab": {},
    "colab_type": "code",
    "id": "td8t2NpPHUPe"
   },
   "outputs": [],
   "source": [
    "# A 0 on two countries means that the country has to be the one variable which wasn't included \n",
    "# This will save us from the problem of using too many dimensions\n",
    "X = X[:,1:] # Got rid of Spain as a dimension."
   ]
  },
  {
   "cell_type": "markdown",
   "metadata": {
    "colab_type": "text",
    "id": "wyFlF8iBHUPk"
   },
   "source": [
    "#### Divide the data set into Train and test sets"
   ]
  },
  {
   "cell_type": "code",
   "execution_count": 0,
   "metadata": {
    "colab": {},
    "colab_type": "code",
    "id": "0YvyE1kXHUPl"
   },
   "outputs": [],
   "source": [
    "# Splitting the dataset into the Training and Testing set.\n",
    "\n",
    "X_train, X_test, y_train, y_test = train_test_split(X,y, test_size = 0.2, random_state = 0)"
   ]
  },
  {
   "cell_type": "markdown",
   "metadata": {
    "colab_type": "text",
    "id": "qlSyq5fNHUPp"
   },
   "source": [
    "#### Normalize the train and test data"
   ]
  },
  {
   "cell_type": "code",
   "execution_count": 0,
   "metadata": {
    "colab": {},
    "colab_type": "code",
    "id": "SEcfWvfrHUPr"
   },
   "outputs": [],
   "source": [
    "# Feature Scaling\n",
    "from sklearn.preprocessing import StandardScaler\n",
    "sc=StandardScaler()\n",
    "X_train = sc.fit_transform(X_train)\n",
    "X_test = sc.transform(X_test)"
   ]
  },
  {
   "cell_type": "markdown",
   "metadata": {
    "colab_type": "text",
    "id": "m-_JBupNHUPw"
   },
   "source": [
    "#### Initialize & build the model"
   ]
  },
  {
   "cell_type": "code",
   "execution_count": 0,
   "metadata": {
    "colab": {},
    "colab_type": "code",
    "id": "aexcSjTuHUPx"
   },
   "outputs": [],
   "source": [
    "# Initializing the ANN\n",
    "classifier = Sequential()"
   ]
  },
  {
   "cell_type": "code",
   "execution_count": 0,
   "metadata": {
    "colab": {},
    "colab_type": "code",
    "id": "bsCe9B-QHUP9"
   },
   "outputs": [],
   "source": [
    "# The amount of nodes (dimensions) in hidden layer should be the average of input and output layers, in this case 6.\n",
    "# This adds the input layer (by specifying input dimension) AND the first hidden layer (units)\n",
    "classifier.add(Dense(activation = 'relu', input_dim = 11, units=6, kernel_initializer='uniform'))"
   ]
  },
  {
   "cell_type": "code",
   "execution_count": 0,
   "metadata": {
    "colab": {},
    "colab_type": "code",
    "id": "_Diwju_BHUQK"
   },
   "outputs": [],
   "source": [
    "#Add 1st hidden layer\n",
    "classifier.add(Dense(6, activation='sigmoid', kernel_initializer='uniform'))"
   ]
  },
  {
   "cell_type": "code",
   "execution_count": 0,
   "metadata": {
    "colab": {},
    "colab_type": "code",
    "id": "pKtHXQExHUQO"
   },
   "outputs": [],
   "source": [
    "# Adding the output layer\n",
    "# Notice that we do not need to specify input dim. \n",
    "# we have an output of 1 node, which is the the desired dimensions of our output (stay with the bank or not)\n",
    "# We use the sigmoid because we want probability outcomes\n",
    "classifier.add(Dense(1, activation = 'sigmoid', kernel_initializer='uniform')) "
   ]
  },
  {
   "cell_type": "code",
   "execution_count": 0,
   "metadata": {
    "colab": {},
    "colab_type": "code",
    "id": "BNP3DiCLHUQR"
   },
   "outputs": [],
   "source": [
    "# Create optimizer with default learning rate\n",
    "# Compile the model\n",
    "classifier.compile(optimizer='SGD', loss='mse', metrics=['accuracy'])"
   ]
  },
  {
   "cell_type": "code",
   "execution_count": 72,
   "metadata": {
    "colab": {
     "base_uri": "https://localhost:8080/",
     "height": 265
    },
    "colab_type": "code",
    "id": "U1ZM6oGVHUQX",
    "outputId": "ff1f5565-ab6c-4802-c084-02a4fc534e4d"
   },
   "outputs": [
    {
     "name": "stdout",
     "output_type": "stream",
     "text": [
      "Model: \"sequential_4\"\n",
      "_________________________________________________________________\n",
      "Layer (type)                 Output Shape              Param #   \n",
      "=================================================================\n",
      "dense_9 (Dense)              (None, 6)                 72        \n",
      "_________________________________________________________________\n",
      "dense_10 (Dense)             (None, 6)                 42        \n",
      "_________________________________________________________________\n",
      "dense_11 (Dense)             (None, 1)                 7         \n",
      "=================================================================\n",
      "Total params: 121\n",
      "Trainable params: 121\n",
      "Non-trainable params: 0\n",
      "_________________________________________________________________\n"
     ]
    }
   ],
   "source": [
    "classifier.summary()"
   ]
  },
  {
   "cell_type": "code",
   "execution_count": 73,
   "metadata": {
    "colab": {
     "base_uri": "https://localhost:8080/",
     "height": 1000
    },
    "colab_type": "code",
    "id": "H5q62XKSHUQc",
    "outputId": "2fbe5883-35e4-450e-e60c-88d24aba9632"
   },
   "outputs": [
    {
     "name": "stdout",
     "output_type": "stream",
     "text": [
      "Train on 8000 samples, validate on 2000 samples\n",
      "Epoch 1/100\n",
      "8000/8000 [==============================] - 1s 102us/sample - loss: 0.2066 - accuracy: 0.7960 - val_loss: 0.1819 - val_accuracy: 0.7975\n",
      "Epoch 2/100\n",
      "8000/8000 [==============================] - 0s 57us/sample - loss: 0.1741 - accuracy: 0.7960 - val_loss: 0.1681 - val_accuracy: 0.7975\n",
      "Epoch 3/100\n",
      "8000/8000 [==============================] - 0s 58us/sample - loss: 0.1664 - accuracy: 0.7960 - val_loss: 0.1641 - val_accuracy: 0.7975\n",
      "Epoch 4/100\n",
      "8000/8000 [==============================] - 0s 56us/sample - loss: 0.1640 - accuracy: 0.7960 - val_loss: 0.1626 - val_accuracy: 0.7975\n",
      "Epoch 5/100\n",
      "8000/8000 [==============================] - 0s 55us/sample - loss: 0.1631 - accuracy: 0.7960 - val_loss: 0.1620 - val_accuracy: 0.7975\n",
      "Epoch 6/100\n",
      "8000/8000 [==============================] - 0s 54us/sample - loss: 0.1627 - accuracy: 0.7960 - val_loss: 0.1618 - val_accuracy: 0.7975\n",
      "Epoch 7/100\n",
      "8000/8000 [==============================] - 0s 54us/sample - loss: 0.1626 - accuracy: 0.7960 - val_loss: 0.1616 - val_accuracy: 0.7975\n",
      "Epoch 8/100\n",
      "8000/8000 [==============================] - 0s 58us/sample - loss: 0.1625 - accuracy: 0.7960 - val_loss: 0.1616 - val_accuracy: 0.7975\n",
      "Epoch 9/100\n",
      "8000/8000 [==============================] - 0s 53us/sample - loss: 0.1624 - accuracy: 0.7960 - val_loss: 0.1615 - val_accuracy: 0.7975\n",
      "Epoch 10/100\n",
      "8000/8000 [==============================] - 0s 57us/sample - loss: 0.1624 - accuracy: 0.7960 - val_loss: 0.1615 - val_accuracy: 0.7975\n",
      "Epoch 11/100\n",
      "8000/8000 [==============================] - 0s 56us/sample - loss: 0.1624 - accuracy: 0.7960 - val_loss: 0.1615 - val_accuracy: 0.7975\n",
      "Epoch 12/100\n",
      "8000/8000 [==============================] - 0s 56us/sample - loss: 0.1624 - accuracy: 0.7960 - val_loss: 0.1615 - val_accuracy: 0.7975\n",
      "Epoch 13/100\n",
      "8000/8000 [==============================] - 0s 55us/sample - loss: 0.1624 - accuracy: 0.7960 - val_loss: 0.1615 - val_accuracy: 0.7975\n",
      "Epoch 14/100\n",
      "8000/8000 [==============================] - 0s 57us/sample - loss: 0.1624 - accuracy: 0.7960 - val_loss: 0.1615 - val_accuracy: 0.7975\n",
      "Epoch 15/100\n",
      "8000/8000 [==============================] - 0s 57us/sample - loss: 0.1624 - accuracy: 0.7960 - val_loss: 0.1615 - val_accuracy: 0.7975\n",
      "Epoch 16/100\n",
      "8000/8000 [==============================] - 0s 56us/sample - loss: 0.1624 - accuracy: 0.7960 - val_loss: 0.1615 - val_accuracy: 0.7975\n",
      "Epoch 17/100\n",
      "8000/8000 [==============================] - 0s 59us/sample - loss: 0.1624 - accuracy: 0.7960 - val_loss: 0.1615 - val_accuracy: 0.7975\n",
      "Epoch 18/100\n",
      "8000/8000 [==============================] - 0s 56us/sample - loss: 0.1624 - accuracy: 0.7960 - val_loss: 0.1615 - val_accuracy: 0.7975\n",
      "Epoch 19/100\n",
      "8000/8000 [==============================] - 0s 56us/sample - loss: 0.1624 - accuracy: 0.7960 - val_loss: 0.1615 - val_accuracy: 0.7975\n",
      "Epoch 20/100\n",
      "8000/8000 [==============================] - 0s 56us/sample - loss: 0.1624 - accuracy: 0.7960 - val_loss: 0.1615 - val_accuracy: 0.7975\n",
      "Epoch 21/100\n",
      "8000/8000 [==============================] - 0s 58us/sample - loss: 0.1624 - accuracy: 0.7960 - val_loss: 0.1615 - val_accuracy: 0.7975\n",
      "Epoch 22/100\n",
      "8000/8000 [==============================] - 0s 54us/sample - loss: 0.1624 - accuracy: 0.7960 - val_loss: 0.1615 - val_accuracy: 0.7975\n",
      "Epoch 23/100\n",
      "8000/8000 [==============================] - 0s 59us/sample - loss: 0.1624 - accuracy: 0.7960 - val_loss: 0.1615 - val_accuracy: 0.7975\n",
      "Epoch 24/100\n",
      "8000/8000 [==============================] - 0s 56us/sample - loss: 0.1624 - accuracy: 0.7960 - val_loss: 0.1615 - val_accuracy: 0.7975\n",
      "Epoch 25/100\n",
      "8000/8000 [==============================] - 0s 56us/sample - loss: 0.1624 - accuracy: 0.7960 - val_loss: 0.1615 - val_accuracy: 0.7975\n",
      "Epoch 26/100\n",
      "8000/8000 [==============================] - 0s 56us/sample - loss: 0.1624 - accuracy: 0.7960 - val_loss: 0.1615 - val_accuracy: 0.7975\n",
      "Epoch 27/100\n",
      "8000/8000 [==============================] - 0s 55us/sample - loss: 0.1624 - accuracy: 0.7960 - val_loss: 0.1615 - val_accuracy: 0.7975\n",
      "Epoch 28/100\n",
      "8000/8000 [==============================] - 0s 54us/sample - loss: 0.1624 - accuracy: 0.7960 - val_loss: 0.1615 - val_accuracy: 0.7975\n",
      "Epoch 29/100\n",
      "8000/8000 [==============================] - 0s 55us/sample - loss: 0.1624 - accuracy: 0.7960 - val_loss: 0.1615 - val_accuracy: 0.7975\n",
      "Epoch 30/100\n",
      "8000/8000 [==============================] - 0s 57us/sample - loss: 0.1624 - accuracy: 0.7960 - val_loss: 0.1615 - val_accuracy: 0.7975\n",
      "Epoch 31/100\n",
      "8000/8000 [==============================] - 0s 56us/sample - loss: 0.1624 - accuracy: 0.7960 - val_loss: 0.1615 - val_accuracy: 0.7975\n",
      "Epoch 32/100\n",
      "8000/8000 [==============================] - 0s 54us/sample - loss: 0.1624 - accuracy: 0.7960 - val_loss: 0.1615 - val_accuracy: 0.7975\n",
      "Epoch 33/100\n",
      "8000/8000 [==============================] - 0s 57us/sample - loss: 0.1624 - accuracy: 0.7960 - val_loss: 0.1615 - val_accuracy: 0.7975\n",
      "Epoch 34/100\n",
      "8000/8000 [==============================] - 0s 54us/sample - loss: 0.1624 - accuracy: 0.7960 - val_loss: 0.1615 - val_accuracy: 0.7975\n",
      "Epoch 35/100\n",
      "8000/8000 [==============================] - 0s 59us/sample - loss: 0.1624 - accuracy: 0.7960 - val_loss: 0.1615 - val_accuracy: 0.7975\n",
      "Epoch 36/100\n",
      "8000/8000 [==============================] - 0s 55us/sample - loss: 0.1624 - accuracy: 0.7960 - val_loss: 0.1615 - val_accuracy: 0.7975\n",
      "Epoch 37/100\n",
      "8000/8000 [==============================] - 0s 57us/sample - loss: 0.1624 - accuracy: 0.7960 - val_loss: 0.1615 - val_accuracy: 0.7975\n",
      "Epoch 38/100\n",
      "8000/8000 [==============================] - 0s 56us/sample - loss: 0.1624 - accuracy: 0.7960 - val_loss: 0.1615 - val_accuracy: 0.7975\n",
      "Epoch 39/100\n",
      "8000/8000 [==============================] - 0s 55us/sample - loss: 0.1624 - accuracy: 0.7960 - val_loss: 0.1615 - val_accuracy: 0.7975\n",
      "Epoch 40/100\n",
      "8000/8000 [==============================] - 0s 57us/sample - loss: 0.1624 - accuracy: 0.7960 - val_loss: 0.1615 - val_accuracy: 0.7975\n",
      "Epoch 41/100\n",
      "8000/8000 [==============================] - 0s 56us/sample - loss: 0.1624 - accuracy: 0.7960 - val_loss: 0.1615 - val_accuracy: 0.7975\n",
      "Epoch 42/100\n",
      "8000/8000 [==============================] - 0s 57us/sample - loss: 0.1624 - accuracy: 0.7960 - val_loss: 0.1615 - val_accuracy: 0.7975\n",
      "Epoch 43/100\n",
      "8000/8000 [==============================] - 0s 57us/sample - loss: 0.1624 - accuracy: 0.7960 - val_loss: 0.1615 - val_accuracy: 0.7975\n",
      "Epoch 44/100\n",
      "8000/8000 [==============================] - 0s 56us/sample - loss: 0.1624 - accuracy: 0.7960 - val_loss: 0.1615 - val_accuracy: 0.7975\n",
      "Epoch 45/100\n",
      "8000/8000 [==============================] - 0s 55us/sample - loss: 0.1624 - accuracy: 0.7960 - val_loss: 0.1615 - val_accuracy: 0.7975\n",
      "Epoch 46/100\n",
      "8000/8000 [==============================] - 0s 58us/sample - loss: 0.1624 - accuracy: 0.7960 - val_loss: 0.1615 - val_accuracy: 0.7975\n",
      "Epoch 47/100\n",
      "8000/8000 [==============================] - 0s 57us/sample - loss: 0.1624 - accuracy: 0.7960 - val_loss: 0.1615 - val_accuracy: 0.7975\n",
      "Epoch 48/100\n",
      "8000/8000 [==============================] - 0s 59us/sample - loss: 0.1624 - accuracy: 0.7960 - val_loss: 0.1615 - val_accuracy: 0.7975\n",
      "Epoch 49/100\n",
      "8000/8000 [==============================] - 0s 58us/sample - loss: 0.1624 - accuracy: 0.7960 - val_loss: 0.1615 - val_accuracy: 0.7975\n",
      "Epoch 50/100\n",
      "8000/8000 [==============================] - 0s 58us/sample - loss: 0.1624 - accuracy: 0.7960 - val_loss: 0.1615 - val_accuracy: 0.7975\n",
      "Epoch 51/100\n",
      "8000/8000 [==============================] - 0s 54us/sample - loss: 0.1624 - accuracy: 0.7960 - val_loss: 0.1615 - val_accuracy: 0.7975\n",
      "Epoch 52/100\n",
      "8000/8000 [==============================] - 0s 60us/sample - loss: 0.1624 - accuracy: 0.7960 - val_loss: 0.1615 - val_accuracy: 0.7975\n",
      "Epoch 53/100\n",
      "8000/8000 [==============================] - 0s 57us/sample - loss: 0.1624 - accuracy: 0.7960 - val_loss: 0.1615 - val_accuracy: 0.7975\n",
      "Epoch 54/100\n",
      "8000/8000 [==============================] - 0s 57us/sample - loss: 0.1624 - accuracy: 0.7960 - val_loss: 0.1615 - val_accuracy: 0.7975\n",
      "Epoch 55/100\n",
      "8000/8000 [==============================] - 0s 57us/sample - loss: 0.1624 - accuracy: 0.7960 - val_loss: 0.1615 - val_accuracy: 0.7975\n",
      "Epoch 56/100\n",
      "8000/8000 [==============================] - 0s 56us/sample - loss: 0.1624 - accuracy: 0.7960 - val_loss: 0.1615 - val_accuracy: 0.7975\n",
      "Epoch 57/100\n",
      "8000/8000 [==============================] - 0s 56us/sample - loss: 0.1624 - accuracy: 0.7960 - val_loss: 0.1615 - val_accuracy: 0.7975\n",
      "Epoch 58/100\n",
      "8000/8000 [==============================] - 0s 58us/sample - loss: 0.1624 - accuracy: 0.7960 - val_loss: 0.1615 - val_accuracy: 0.7975\n",
      "Epoch 59/100\n",
      "8000/8000 [==============================] - 0s 57us/sample - loss: 0.1624 - accuracy: 0.7960 - val_loss: 0.1615 - val_accuracy: 0.7975\n",
      "Epoch 60/100\n",
      "8000/8000 [==============================] - 0s 57us/sample - loss: 0.1624 - accuracy: 0.7960 - val_loss: 0.1615 - val_accuracy: 0.7975\n",
      "Epoch 61/100\n",
      "8000/8000 [==============================] - 0s 56us/sample - loss: 0.1624 - accuracy: 0.7960 - val_loss: 0.1615 - val_accuracy: 0.7975\n",
      "Epoch 62/100\n",
      "8000/8000 [==============================] - 0s 59us/sample - loss: 0.1624 - accuracy: 0.7960 - val_loss: 0.1615 - val_accuracy: 0.7975\n",
      "Epoch 63/100\n",
      "8000/8000 [==============================] - 0s 52us/sample - loss: 0.1624 - accuracy: 0.7960 - val_loss: 0.1615 - val_accuracy: 0.7975\n",
      "Epoch 64/100\n",
      "8000/8000 [==============================] - 0s 54us/sample - loss: 0.1624 - accuracy: 0.7960 - val_loss: 0.1615 - val_accuracy: 0.7975\n",
      "Epoch 65/100\n",
      "8000/8000 [==============================] - 0s 53us/sample - loss: 0.1624 - accuracy: 0.7960 - val_loss: 0.1615 - val_accuracy: 0.7975\n",
      "Epoch 66/100\n",
      "8000/8000 [==============================] - 0s 51us/sample - loss: 0.1624 - accuracy: 0.7960 - val_loss: 0.1615 - val_accuracy: 0.7975\n",
      "Epoch 67/100\n",
      "8000/8000 [==============================] - 0s 58us/sample - loss: 0.1624 - accuracy: 0.7960 - val_loss: 0.1615 - val_accuracy: 0.7975\n",
      "Epoch 68/100\n",
      "8000/8000 [==============================] - 0s 54us/sample - loss: 0.1624 - accuracy: 0.7960 - val_loss: 0.1615 - val_accuracy: 0.7975\n",
      "Epoch 69/100\n",
      "8000/8000 [==============================] - 0s 55us/sample - loss: 0.1624 - accuracy: 0.7960 - val_loss: 0.1615 - val_accuracy: 0.7975\n",
      "Epoch 70/100\n",
      "8000/8000 [==============================] - 0s 53us/sample - loss: 0.1624 - accuracy: 0.7960 - val_loss: 0.1615 - val_accuracy: 0.7975\n",
      "Epoch 71/100\n",
      "8000/8000 [==============================] - 0s 59us/sample - loss: 0.1624 - accuracy: 0.7960 - val_loss: 0.1615 - val_accuracy: 0.7975\n",
      "Epoch 72/100\n",
      "8000/8000 [==============================] - 0s 56us/sample - loss: 0.1624 - accuracy: 0.7960 - val_loss: 0.1615 - val_accuracy: 0.7975\n",
      "Epoch 73/100\n",
      "8000/8000 [==============================] - 0s 55us/sample - loss: 0.1624 - accuracy: 0.7960 - val_loss: 0.1615 - val_accuracy: 0.7975\n",
      "Epoch 74/100\n",
      "8000/8000 [==============================] - 0s 53us/sample - loss: 0.1624 - accuracy: 0.7960 - val_loss: 0.1615 - val_accuracy: 0.7975\n",
      "Epoch 75/100\n",
      "8000/8000 [==============================] - 0s 53us/sample - loss: 0.1624 - accuracy: 0.7960 - val_loss: 0.1615 - val_accuracy: 0.7975\n",
      "Epoch 76/100\n",
      "8000/8000 [==============================] - 0s 53us/sample - loss: 0.1624 - accuracy: 0.7960 - val_loss: 0.1615 - val_accuracy: 0.7975\n",
      "Epoch 77/100\n",
      "8000/8000 [==============================] - 0s 55us/sample - loss: 0.1624 - accuracy: 0.7960 - val_loss: 0.1615 - val_accuracy: 0.7975\n",
      "Epoch 78/100\n",
      "8000/8000 [==============================] - 0s 55us/sample - loss: 0.1624 - accuracy: 0.7960 - val_loss: 0.1614 - val_accuracy: 0.7975\n",
      "Epoch 79/100\n",
      "8000/8000 [==============================] - 0s 57us/sample - loss: 0.1624 - accuracy: 0.7960 - val_loss: 0.1614 - val_accuracy: 0.7975\n",
      "Epoch 80/100\n",
      "8000/8000 [==============================] - 0s 56us/sample - loss: 0.1623 - accuracy: 0.7960 - val_loss: 0.1614 - val_accuracy: 0.7975\n",
      "Epoch 81/100\n",
      "8000/8000 [==============================] - 0s 56us/sample - loss: 0.1623 - accuracy: 0.7960 - val_loss: 0.1614 - val_accuracy: 0.7975\n",
      "Epoch 82/100\n",
      "8000/8000 [==============================] - 0s 53us/sample - loss: 0.1623 - accuracy: 0.7960 - val_loss: 0.1614 - val_accuracy: 0.7975\n",
      "Epoch 83/100\n",
      "8000/8000 [==============================] - 0s 57us/sample - loss: 0.1623 - accuracy: 0.7960 - val_loss: 0.1614 - val_accuracy: 0.7975\n",
      "Epoch 84/100\n",
      "8000/8000 [==============================] - 0s 57us/sample - loss: 0.1623 - accuracy: 0.7960 - val_loss: 0.1614 - val_accuracy: 0.7975\n",
      "Epoch 85/100\n",
      "8000/8000 [==============================] - 0s 55us/sample - loss: 0.1623 - accuracy: 0.7960 - val_loss: 0.1614 - val_accuracy: 0.7975\n",
      "Epoch 86/100\n",
      "8000/8000 [==============================] - 0s 57us/sample - loss: 0.1623 - accuracy: 0.7960 - val_loss: 0.1614 - val_accuracy: 0.7975\n",
      "Epoch 87/100\n",
      "8000/8000 [==============================] - 0s 55us/sample - loss: 0.1623 - accuracy: 0.7960 - val_loss: 0.1614 - val_accuracy: 0.7975\n",
      "Epoch 88/100\n",
      "8000/8000 [==============================] - 0s 57us/sample - loss: 0.1623 - accuracy: 0.7960 - val_loss: 0.1614 - val_accuracy: 0.7975\n",
      "Epoch 89/100\n",
      "8000/8000 [==============================] - 0s 54us/sample - loss: 0.1623 - accuracy: 0.7960 - val_loss: 0.1614 - val_accuracy: 0.7975\n",
      "Epoch 90/100\n",
      "8000/8000 [==============================] - 0s 57us/sample - loss: 0.1623 - accuracy: 0.7960 - val_loss: 0.1614 - val_accuracy: 0.7975\n",
      "Epoch 91/100\n",
      "8000/8000 [==============================] - 0s 55us/sample - loss: 0.1623 - accuracy: 0.7960 - val_loss: 0.1614 - val_accuracy: 0.7975\n",
      "Epoch 92/100\n",
      "8000/8000 [==============================] - 0s 57us/sample - loss: 0.1623 - accuracy: 0.7960 - val_loss: 0.1614 - val_accuracy: 0.7975\n",
      "Epoch 93/100\n",
      "8000/8000 [==============================] - 0s 56us/sample - loss: 0.1623 - accuracy: 0.7960 - val_loss: 0.1614 - val_accuracy: 0.7975\n",
      "Epoch 94/100\n",
      "8000/8000 [==============================] - 0s 54us/sample - loss: 0.1623 - accuracy: 0.7960 - val_loss: 0.1614 - val_accuracy: 0.7975\n",
      "Epoch 95/100\n",
      "8000/8000 [==============================] - 0s 60us/sample - loss: 0.1623 - accuracy: 0.7960 - val_loss: 0.1614 - val_accuracy: 0.7975\n",
      "Epoch 96/100\n",
      "8000/8000 [==============================] - 0s 57us/sample - loss: 0.1623 - accuracy: 0.7960 - val_loss: 0.1614 - val_accuracy: 0.7975\n",
      "Epoch 97/100\n",
      "8000/8000 [==============================] - 0s 60us/sample - loss: 0.1623 - accuracy: 0.7960 - val_loss: 0.1614 - val_accuracy: 0.7975\n",
      "Epoch 98/100\n",
      "8000/8000 [==============================] - 0s 57us/sample - loss: 0.1623 - accuracy: 0.7960 - val_loss: 0.1614 - val_accuracy: 0.7975\n",
      "Epoch 99/100\n",
      "8000/8000 [==============================] - 0s 57us/sample - loss: 0.1623 - accuracy: 0.7960 - val_loss: 0.1614 - val_accuracy: 0.7975\n",
      "Epoch 100/100\n",
      "8000/8000 [==============================] - 0s 53us/sample - loss: 0.1623 - accuracy: 0.7960 - val_loss: 0.1614 - val_accuracy: 0.7975\n"
     ]
    },
    {
     "data": {
      "text/plain": [
       "<tensorflow.python.keras.callbacks.History at 0x7fd7b5a00f98>"
      ]
     },
     "execution_count": 73,
     "metadata": {
      "tags": []
     },
     "output_type": "execute_result"
    }
   ],
   "source": [
    "classifier.fit(X_train, y_train,           \n",
    "          validation_data=(X_test,y_test),\n",
    "          epochs=100,\n",
    "          batch_size=32)"
   ]
  },
  {
   "cell_type": "markdown",
   "metadata": {
    "colab_type": "text",
    "id": "il6Kmob4HUQi"
   },
   "source": [
    "#### Predict the results using 0.5 as a threshold"
   ]
  },
  {
   "cell_type": "code",
   "execution_count": 74,
   "metadata": {
    "colab": {
     "base_uri": "https://localhost:8080/",
     "height": 141
    },
    "colab_type": "code",
    "id": "A7-PkHlvHUQk",
    "outputId": "fa335396-ab98-44f3-9302-5360d2c4ab6b"
   },
   "outputs": [
    {
     "name": "stdout",
     "output_type": "stream",
     "text": [
      "[[0.20427474]\n",
      " [0.20388842]\n",
      " [0.2036883 ]\n",
      " ...\n",
      " [0.20354655]\n",
      " [0.20378402]\n",
      " [0.20409337]]\n"
     ]
    }
   ],
   "source": [
    "y_pred = classifier.predict(X_test)\n",
    "print(y_pred)"
   ]
  },
  {
   "cell_type": "code",
   "execution_count": 75,
   "metadata": {
    "colab": {
     "base_uri": "https://localhost:8080/",
     "height": 141
    },
    "colab_type": "code",
    "id": "C70m541dHUQo",
    "outputId": "e246ecd1-24ae-4704-bb8f-31a89d177a40"
   },
   "outputs": [
    {
     "name": "stdout",
     "output_type": "stream",
     "text": [
      "[[False]\n",
      " [False]\n",
      " [False]\n",
      " ...\n",
      " [False]\n",
      " [False]\n",
      " [False]]\n"
     ]
    }
   ],
   "source": [
    "# To use the confusion Matrix, we need to convert the probabilities that a customer will leave the bank into the form true or false. \n",
    "# So we will use the cutoff value 0.5 to indicate whether they are likely to exit or not.\n",
    "y_pred = (y_pred > 0.5)\n",
    "print(y_pred)"
   ]
  },
  {
   "cell_type": "markdown",
   "metadata": {
    "colab_type": "text",
    "id": "E4DXFj4LHUQr"
   },
   "source": [
    "#### Print the Accuracy score and confusion matrix"
   ]
  },
  {
   "cell_type": "code",
   "execution_count": 76,
   "metadata": {
    "colab": {
     "base_uri": "https://localhost:8080/",
     "height": 52
    },
    "colab_type": "code",
    "id": "Mg32MO2OHUQs",
    "outputId": "7ce46f3f-5342-4e84-b0bc-24ec6da5cd9f"
   },
   "outputs": [
    {
     "name": "stdout",
     "output_type": "stream",
     "text": [
      "[[1595    0]\n",
      " [ 405    0]]\n"
     ]
    }
   ],
   "source": [
    "cm1 = confusion_matrix(y_test, y_pred)\n",
    "print(cm1)"
   ]
  },
  {
   "cell_type": "code",
   "execution_count": 77,
   "metadata": {
    "colab": {
     "base_uri": "https://localhost:8080/",
     "height": 34
    },
    "colab_type": "code",
    "id": "Sm9XiMdxHUQw",
    "outputId": "5116c947-b8d1-4fe8-d383-e12fa2d181cf"
   },
   "outputs": [
    {
     "name": "stdout",
     "output_type": "stream",
     "text": [
      "79.75 % of testing data was classified correctly\n"
     ]
    }
   ],
   "source": [
    "accuracy_model1 = ((cm1[0][0]+cm1[1][1])*100)/(cm1[0][0]+cm1[1][1]+cm1[0][1]+cm1[1][0])\n",
    "print (accuracy_model1, '% of testing data was classified correctly')"
   ]
  },
  {
   "cell_type": "markdown",
   "metadata": {
    "colab_type": "text",
    "id": "chY3sKXrHUQ0"
   },
   "source": [
    "#### Optimize the model"
   ]
  },
  {
   "cell_type": "markdown",
   "metadata": {
    "colab_type": "text",
    "id": "RH9SySidHUQ1"
   },
   "source": [
    "Some important parameters to look out for while optimizing neural networks are:\n",
    "\n",
    "-Type of architecture\n",
    "\n",
    "-Number of Layers\n",
    "\n",
    "-Number of Neurons in a layer\n",
    "\n",
    "-Regularization parameters\n",
    "\n",
    "-Learning Rate\n",
    "\n",
    "-Type of optimization / backpropagation technique to use\n",
    "\n",
    "-Dropout rate\n",
    "\n",
    "-Weight sharing"
   ]
  },
  {
   "cell_type": "markdown",
   "metadata": {
    "colab_type": "text",
    "id": "wWFZuawVHUQ3"
   },
   "source": [
    "##### Number of Layers:\n",
    "We will keep it similar to the above model so that we can compare the accuracy.\n",
    "1 hidden layer.\n",
    "\n",
    "##### Activation:\n",
    "input layer: relu becasue we are in an input layer. uses the ReLu activation function for  ϕ\n",
    "output layer: sigmoid becasue we are in an output layer. uses the Sigmoid activation function for  ϕ . This is used instead of the ReLu function becasue it generates probabilities for the outcome. We want the probability that each customer leaves the bank.\n",
    "\n",
    "##### Type of optimization / backpropagation technique to use: \n",
    "We will use Adam. Adam is a very efficeint variation of Stochastic Gradient Descent. For Adam and its variant, learning rate or the decay rate does not really matter too much.\n",
    "\n",
    "##### Learning Rate:\n",
    "default learning rate 0.001.\n",
    "\n",
    "##### Number of Neurons in a layer:\n",
    "We will keep it 6 as per our initial calculation above.\n",
    "\n",
    "##### Weight sharing / kernel_initializer: \n",
    "uniform the distribution with which we randomly initialize weights for the nodes in this layer.\n",
    "\n",
    "##### Loss:\n",
    "loss: binary_crossentropy This is the loss function used within adam. This should be the logarthmic loss. If our dependent (output variable) is Binary, it is binary_crossentropy. If Categorical, then it is called categorical_crossentropy\n",
    "\n",
    "Rebuilding the model using these optimised parameters"
   ]
  },
  {
   "cell_type": "code",
   "execution_count": 0,
   "metadata": {
    "colab": {},
    "colab_type": "code",
    "id": "xrWiY4uRHURB"
   },
   "outputs": [],
   "source": [
    "# Initializing the ANN\n",
    "Oclassifier = Sequential()\n",
    "# This adds the input layer (by specifying input dimension) AND the first hidden layer (units)\n",
    "Oclassifier.add(Dense(activation = 'relu', input_dim = 11, units=6, kernel_initializer='uniform'))"
   ]
  },
  {
   "cell_type": "code",
   "execution_count": 0,
   "metadata": {
    "colab": {},
    "colab_type": "code",
    "id": "VRO3Pf80HURF"
   },
   "outputs": [],
   "source": [
    "# Adding the hidden layer\n",
    "# Notice that we do not need to specify input dim. \n",
    "Oclassifier.add(Dense(activation = 'relu', units=6, kernel_initializer='uniform')) "
   ]
  },
  {
   "cell_type": "code",
   "execution_count": 0,
   "metadata": {
    "colab": {},
    "colab_type": "code",
    "id": "TtBNdW3mHURI"
   },
   "outputs": [],
   "source": [
    "# Adding the output layer\n",
    "# Notice that we do not need to specify input dim. \n",
    "# we have an output of 1 node, which is the the desired dimensions of our output (stay with the bank or not)\n",
    "# We use the sigmoid because we want probability outcomes\n",
    "Oclassifier.add(Dense(activation = 'sigmoid', units=1, kernel_initializer='uniform')) "
   ]
  },
  {
   "cell_type": "code",
   "execution_count": 0,
   "metadata": {
    "colab": {},
    "colab_type": "code",
    "id": "x0p8AWY9HURM"
   },
   "outputs": [],
   "source": [
    "Oclassifier.compile(optimizer='adam', loss = 'binary_crossentropy', metrics=['accuracy'])"
   ]
  },
  {
   "cell_type": "code",
   "execution_count": 82,
   "metadata": {
    "colab": {
     "base_uri": "https://localhost:8080/",
     "height": 265
    },
    "colab_type": "code",
    "id": "jc2ADej18pcg",
    "outputId": "f695b406-0329-4120-a77e-8bbcb6a5e02b"
   },
   "outputs": [
    {
     "name": "stdout",
     "output_type": "stream",
     "text": [
      "Model: \"sequential_5\"\n",
      "_________________________________________________________________\n",
      "Layer (type)                 Output Shape              Param #   \n",
      "=================================================================\n",
      "dense_12 (Dense)             (None, 6)                 72        \n",
      "_________________________________________________________________\n",
      "dense_13 (Dense)             (None, 6)                 42        \n",
      "_________________________________________________________________\n",
      "dense_14 (Dense)             (None, 1)                 7         \n",
      "=================================================================\n",
      "Total params: 121\n",
      "Trainable params: 121\n",
      "Non-trainable params: 0\n",
      "_________________________________________________________________\n"
     ]
    }
   ],
   "source": [
    "Oclassifier.summary()"
   ]
  },
  {
   "cell_type": "code",
   "execution_count": 83,
   "metadata": {
    "colab": {
     "base_uri": "https://localhost:8080/",
     "height": 1000
    },
    "colab_type": "code",
    "id": "AZMV81S5HURR",
    "outputId": "c5f54483-5aad-4e87-c012-026a39359de4"
   },
   "outputs": [
    {
     "name": "stdout",
     "output_type": "stream",
     "text": [
      "Train on 8000 samples, validate on 2000 samples\n",
      "Epoch 1/100\n",
      "8000/8000 [==============================] - 1s 131us/sample - loss: 0.5878 - accuracy: 0.7933 - val_loss: 0.4487 - val_accuracy: 0.7975\n",
      "Epoch 2/100\n",
      "8000/8000 [==============================] - 0s 55us/sample - loss: 0.4372 - accuracy: 0.7960 - val_loss: 0.4321 - val_accuracy: 0.7975\n",
      "Epoch 3/100\n",
      "8000/8000 [==============================] - 0s 54us/sample - loss: 0.4303 - accuracy: 0.7960 - val_loss: 0.4285 - val_accuracy: 0.7975\n",
      "Epoch 4/100\n",
      "8000/8000 [==============================] - 0s 60us/sample - loss: 0.4275 - accuracy: 0.7960 - val_loss: 0.4259 - val_accuracy: 0.7975\n",
      "Epoch 5/100\n",
      "8000/8000 [==============================] - 0s 57us/sample - loss: 0.4253 - accuracy: 0.7960 - val_loss: 0.4238 - val_accuracy: 0.7975\n",
      "Epoch 6/100\n",
      "8000/8000 [==============================] - 0s 57us/sample - loss: 0.4232 - accuracy: 0.7960 - val_loss: 0.4222 - val_accuracy: 0.7975\n",
      "Epoch 7/100\n",
      "8000/8000 [==============================] - 0s 58us/sample - loss: 0.4211 - accuracy: 0.7960 - val_loss: 0.4199 - val_accuracy: 0.7975\n",
      "Epoch 8/100\n",
      "8000/8000 [==============================] - 0s 60us/sample - loss: 0.4192 - accuracy: 0.8069 - val_loss: 0.4186 - val_accuracy: 0.8245\n",
      "Epoch 9/100\n",
      "8000/8000 [==============================] - 0s 60us/sample - loss: 0.4180 - accuracy: 0.8204 - val_loss: 0.4174 - val_accuracy: 0.8295\n",
      "Epoch 10/100\n",
      "8000/8000 [==============================] - 0s 58us/sample - loss: 0.4170 - accuracy: 0.8230 - val_loss: 0.4161 - val_accuracy: 0.8310\n",
      "Epoch 11/100\n",
      "8000/8000 [==============================] - 0s 60us/sample - loss: 0.4156 - accuracy: 0.8254 - val_loss: 0.4150 - val_accuracy: 0.8340\n",
      "Epoch 12/100\n",
      "8000/8000 [==============================] - 0s 59us/sample - loss: 0.4151 - accuracy: 0.8278 - val_loss: 0.4131 - val_accuracy: 0.8335\n",
      "Epoch 13/100\n",
      "8000/8000 [==============================] - 0s 59us/sample - loss: 0.4143 - accuracy: 0.8288 - val_loss: 0.4133 - val_accuracy: 0.8365\n",
      "Epoch 14/100\n",
      "8000/8000 [==============================] - 0s 58us/sample - loss: 0.4133 - accuracy: 0.8314 - val_loss: 0.4114 - val_accuracy: 0.8355\n",
      "Epoch 15/100\n",
      "8000/8000 [==============================] - 0s 59us/sample - loss: 0.4125 - accuracy: 0.8314 - val_loss: 0.4107 - val_accuracy: 0.8360\n",
      "Epoch 16/100\n",
      "8000/8000 [==============================] - 0s 60us/sample - loss: 0.4120 - accuracy: 0.8306 - val_loss: 0.4111 - val_accuracy: 0.8360\n",
      "Epoch 17/100\n",
      "8000/8000 [==============================] - 0s 58us/sample - loss: 0.4113 - accuracy: 0.8314 - val_loss: 0.4091 - val_accuracy: 0.8375\n",
      "Epoch 18/100\n",
      "8000/8000 [==============================] - 0s 58us/sample - loss: 0.4108 - accuracy: 0.8328 - val_loss: 0.4090 - val_accuracy: 0.8370\n",
      "Epoch 19/100\n",
      "8000/8000 [==============================] - 0s 57us/sample - loss: 0.4105 - accuracy: 0.8320 - val_loss: 0.4074 - val_accuracy: 0.8395\n",
      "Epoch 20/100\n",
      "8000/8000 [==============================] - 0s 61us/sample - loss: 0.4100 - accuracy: 0.8325 - val_loss: 0.4079 - val_accuracy: 0.8390\n",
      "Epoch 21/100\n",
      "8000/8000 [==============================] - 0s 57us/sample - loss: 0.4096 - accuracy: 0.8336 - val_loss: 0.4072 - val_accuracy: 0.8390\n",
      "Epoch 22/100\n",
      "8000/8000 [==============================] - 0s 58us/sample - loss: 0.4091 - accuracy: 0.8334 - val_loss: 0.4073 - val_accuracy: 0.8395\n",
      "Epoch 23/100\n",
      "8000/8000 [==============================] - 0s 58us/sample - loss: 0.4086 - accuracy: 0.8345 - val_loss: 0.4063 - val_accuracy: 0.8405\n",
      "Epoch 24/100\n",
      "8000/8000 [==============================] - 0s 61us/sample - loss: 0.4084 - accuracy: 0.8336 - val_loss: 0.4048 - val_accuracy: 0.8425\n",
      "Epoch 25/100\n",
      "8000/8000 [==============================] - 0s 57us/sample - loss: 0.4079 - accuracy: 0.8340 - val_loss: 0.4050 - val_accuracy: 0.8390\n",
      "Epoch 26/100\n",
      "8000/8000 [==============================] - 0s 60us/sample - loss: 0.4076 - accuracy: 0.8341 - val_loss: 0.4048 - val_accuracy: 0.8390\n",
      "Epoch 27/100\n",
      "8000/8000 [==============================] - 0s 59us/sample - loss: 0.4070 - accuracy: 0.8353 - val_loss: 0.4044 - val_accuracy: 0.8390\n",
      "Epoch 28/100\n",
      "8000/8000 [==============================] - 0s 60us/sample - loss: 0.4068 - accuracy: 0.8344 - val_loss: 0.4052 - val_accuracy: 0.8390\n",
      "Epoch 29/100\n",
      "8000/8000 [==============================] - 0s 62us/sample - loss: 0.4067 - accuracy: 0.8338 - val_loss: 0.4046 - val_accuracy: 0.8395\n",
      "Epoch 30/100\n",
      "8000/8000 [==============================] - 0s 61us/sample - loss: 0.4061 - accuracy: 0.8342 - val_loss: 0.4029 - val_accuracy: 0.8400\n",
      "Epoch 31/100\n",
      "8000/8000 [==============================] - 0s 57us/sample - loss: 0.4061 - accuracy: 0.8342 - val_loss: 0.4028 - val_accuracy: 0.8390\n",
      "Epoch 32/100\n",
      "8000/8000 [==============================] - 0s 57us/sample - loss: 0.4058 - accuracy: 0.8329 - val_loss: 0.4023 - val_accuracy: 0.8390\n",
      "Epoch 33/100\n",
      "8000/8000 [==============================] - 0s 58us/sample - loss: 0.4056 - accuracy: 0.8344 - val_loss: 0.4022 - val_accuracy: 0.8395\n",
      "Epoch 34/100\n",
      "8000/8000 [==============================] - 0s 61us/sample - loss: 0.4053 - accuracy: 0.8351 - val_loss: 0.4025 - val_accuracy: 0.8410\n",
      "Epoch 35/100\n",
      "8000/8000 [==============================] - 0s 59us/sample - loss: 0.4050 - accuracy: 0.8346 - val_loss: 0.4011 - val_accuracy: 0.8400\n",
      "Epoch 36/100\n",
      "8000/8000 [==============================] - 0s 59us/sample - loss: 0.4050 - accuracy: 0.8349 - val_loss: 0.4011 - val_accuracy: 0.8405\n",
      "Epoch 37/100\n",
      "8000/8000 [==============================] - 0s 60us/sample - loss: 0.4047 - accuracy: 0.8338 - val_loss: 0.4014 - val_accuracy: 0.8410\n",
      "Epoch 38/100\n",
      "8000/8000 [==============================] - 0s 58us/sample - loss: 0.4045 - accuracy: 0.8350 - val_loss: 0.4002 - val_accuracy: 0.8405\n",
      "Epoch 39/100\n",
      "8000/8000 [==============================] - 0s 59us/sample - loss: 0.4044 - accuracy: 0.8338 - val_loss: 0.4011 - val_accuracy: 0.8430\n",
      "Epoch 40/100\n",
      "8000/8000 [==============================] - 0s 61us/sample - loss: 0.4043 - accuracy: 0.8346 - val_loss: 0.4015 - val_accuracy: 0.8405\n",
      "Epoch 41/100\n",
      "8000/8000 [==============================] - 0s 58us/sample - loss: 0.4041 - accuracy: 0.8356 - val_loss: 0.4000 - val_accuracy: 0.8400\n",
      "Epoch 42/100\n",
      "8000/8000 [==============================] - 0s 58us/sample - loss: 0.4039 - accuracy: 0.8346 - val_loss: 0.4007 - val_accuracy: 0.8400\n",
      "Epoch 43/100\n",
      "8000/8000 [==============================] - 0s 59us/sample - loss: 0.4037 - accuracy: 0.8345 - val_loss: 0.4008 - val_accuracy: 0.8400\n",
      "Epoch 44/100\n",
      "8000/8000 [==============================] - 0s 57us/sample - loss: 0.4036 - accuracy: 0.8347 - val_loss: 0.4005 - val_accuracy: 0.8410\n",
      "Epoch 45/100\n",
      "8000/8000 [==============================] - 0s 61us/sample - loss: 0.4033 - accuracy: 0.8353 - val_loss: 0.3998 - val_accuracy: 0.8400\n",
      "Epoch 46/100\n",
      "8000/8000 [==============================] - 0s 59us/sample - loss: 0.4032 - accuracy: 0.8347 - val_loss: 0.4001 - val_accuracy: 0.8415\n",
      "Epoch 47/100\n",
      "8000/8000 [==============================] - 0s 61us/sample - loss: 0.4031 - accuracy: 0.8347 - val_loss: 0.3997 - val_accuracy: 0.8420\n",
      "Epoch 48/100\n",
      "8000/8000 [==============================] - 0s 56us/sample - loss: 0.4028 - accuracy: 0.8350 - val_loss: 0.4000 - val_accuracy: 0.8400\n",
      "Epoch 49/100\n",
      "8000/8000 [==============================] - 0s 61us/sample - loss: 0.4031 - accuracy: 0.8359 - val_loss: 0.3996 - val_accuracy: 0.8400\n",
      "Epoch 50/100\n",
      "8000/8000 [==============================] - 0s 60us/sample - loss: 0.4026 - accuracy: 0.8355 - val_loss: 0.3985 - val_accuracy: 0.8405\n",
      "Epoch 51/100\n",
      "8000/8000 [==============================] - 0s 60us/sample - loss: 0.4027 - accuracy: 0.8366 - val_loss: 0.3989 - val_accuracy: 0.8405\n",
      "Epoch 52/100\n",
      "8000/8000 [==============================] - 0s 58us/sample - loss: 0.4026 - accuracy: 0.8355 - val_loss: 0.3985 - val_accuracy: 0.8400\n",
      "Epoch 53/100\n",
      "8000/8000 [==============================] - 0s 58us/sample - loss: 0.4022 - accuracy: 0.8344 - val_loss: 0.3984 - val_accuracy: 0.8430\n",
      "Epoch 54/100\n",
      "8000/8000 [==============================] - 1s 66us/sample - loss: 0.4022 - accuracy: 0.8357 - val_loss: 0.3994 - val_accuracy: 0.8435\n",
      "Epoch 55/100\n",
      "8000/8000 [==============================] - 0s 60us/sample - loss: 0.4024 - accuracy: 0.8347 - val_loss: 0.3985 - val_accuracy: 0.8430\n",
      "Epoch 56/100\n",
      "8000/8000 [==============================] - 0s 60us/sample - loss: 0.4019 - accuracy: 0.8353 - val_loss: 0.3984 - val_accuracy: 0.8405\n",
      "Epoch 57/100\n",
      "8000/8000 [==============================] - 0s 58us/sample - loss: 0.4021 - accuracy: 0.8346 - val_loss: 0.3991 - val_accuracy: 0.8395\n",
      "Epoch 58/100\n",
      "8000/8000 [==============================] - 0s 60us/sample - loss: 0.4019 - accuracy: 0.8353 - val_loss: 0.3982 - val_accuracy: 0.8405\n",
      "Epoch 59/100\n",
      "8000/8000 [==============================] - 0s 60us/sample - loss: 0.4019 - accuracy: 0.8361 - val_loss: 0.3978 - val_accuracy: 0.8405\n",
      "Epoch 60/100\n",
      "8000/8000 [==============================] - 0s 60us/sample - loss: 0.4020 - accuracy: 0.8346 - val_loss: 0.3981 - val_accuracy: 0.8410\n",
      "Epoch 61/100\n",
      "8000/8000 [==============================] - 0s 55us/sample - loss: 0.4017 - accuracy: 0.8346 - val_loss: 0.3982 - val_accuracy: 0.8400\n",
      "Epoch 62/100\n",
      "8000/8000 [==============================] - 0s 59us/sample - loss: 0.4017 - accuracy: 0.8344 - val_loss: 0.3986 - val_accuracy: 0.8390\n",
      "Epoch 63/100\n",
      "8000/8000 [==============================] - 0s 58us/sample - loss: 0.4016 - accuracy: 0.8351 - val_loss: 0.3980 - val_accuracy: 0.8410\n",
      "Epoch 64/100\n",
      "8000/8000 [==============================] - 0s 60us/sample - loss: 0.4015 - accuracy: 0.8353 - val_loss: 0.3983 - val_accuracy: 0.8420\n",
      "Epoch 65/100\n",
      "8000/8000 [==============================] - 0s 58us/sample - loss: 0.4014 - accuracy: 0.8347 - val_loss: 0.3980 - val_accuracy: 0.8440\n",
      "Epoch 66/100\n",
      "8000/8000 [==============================] - 0s 60us/sample - loss: 0.4013 - accuracy: 0.8346 - val_loss: 0.3980 - val_accuracy: 0.8435\n",
      "Epoch 67/100\n",
      "8000/8000 [==============================] - 0s 58us/sample - loss: 0.4014 - accuracy: 0.8353 - val_loss: 0.3968 - val_accuracy: 0.8435\n",
      "Epoch 68/100\n",
      "8000/8000 [==============================] - 0s 55us/sample - loss: 0.4012 - accuracy: 0.8340 - val_loss: 0.3991 - val_accuracy: 0.8435\n",
      "Epoch 69/100\n",
      "8000/8000 [==============================] - 0s 60us/sample - loss: 0.4018 - accuracy: 0.8353 - val_loss: 0.3978 - val_accuracy: 0.8415\n",
      "Epoch 70/100\n",
      "8000/8000 [==============================] - 0s 59us/sample - loss: 0.4013 - accuracy: 0.8355 - val_loss: 0.3974 - val_accuracy: 0.8415\n",
      "Epoch 71/100\n",
      "8000/8000 [==============================] - 0s 58us/sample - loss: 0.4009 - accuracy: 0.8346 - val_loss: 0.3974 - val_accuracy: 0.8425\n",
      "Epoch 72/100\n",
      "8000/8000 [==============================] - 0s 61us/sample - loss: 0.4012 - accuracy: 0.8345 - val_loss: 0.3976 - val_accuracy: 0.8440\n",
      "Epoch 73/100\n",
      "8000/8000 [==============================] - 0s 58us/sample - loss: 0.4009 - accuracy: 0.8350 - val_loss: 0.3975 - val_accuracy: 0.8430\n",
      "Epoch 74/100\n",
      "8000/8000 [==============================] - 0s 58us/sample - loss: 0.4009 - accuracy: 0.8353 - val_loss: 0.3974 - val_accuracy: 0.8410\n",
      "Epoch 75/100\n",
      "8000/8000 [==============================] - 0s 60us/sample - loss: 0.4007 - accuracy: 0.8356 - val_loss: 0.3972 - val_accuracy: 0.8425\n",
      "Epoch 76/100\n",
      "8000/8000 [==============================] - 0s 58us/sample - loss: 0.4007 - accuracy: 0.8353 - val_loss: 0.3966 - val_accuracy: 0.8440\n",
      "Epoch 77/100\n",
      "8000/8000 [==============================] - 0s 60us/sample - loss: 0.4008 - accuracy: 0.8347 - val_loss: 0.3967 - val_accuracy: 0.8440\n",
      "Epoch 78/100\n",
      "8000/8000 [==============================] - 0s 60us/sample - loss: 0.4003 - accuracy: 0.8342 - val_loss: 0.3957 - val_accuracy: 0.8445\n",
      "Epoch 79/100\n",
      "8000/8000 [==============================] - 0s 59us/sample - loss: 0.4000 - accuracy: 0.8350 - val_loss: 0.3958 - val_accuracy: 0.8415\n",
      "Epoch 80/100\n",
      "8000/8000 [==============================] - 0s 56us/sample - loss: 0.3998 - accuracy: 0.8349 - val_loss: 0.3961 - val_accuracy: 0.8445\n",
      "Epoch 81/100\n",
      "8000/8000 [==============================] - 0s 58us/sample - loss: 0.3992 - accuracy: 0.8360 - val_loss: 0.3957 - val_accuracy: 0.8440\n",
      "Epoch 82/100\n",
      "8000/8000 [==============================] - 0s 57us/sample - loss: 0.3992 - accuracy: 0.8356 - val_loss: 0.3956 - val_accuracy: 0.8425\n",
      "Epoch 83/100\n",
      "8000/8000 [==============================] - 0s 56us/sample - loss: 0.3989 - accuracy: 0.8354 - val_loss: 0.3951 - val_accuracy: 0.8445\n",
      "Epoch 84/100\n",
      "8000/8000 [==============================] - 0s 58us/sample - loss: 0.3985 - accuracy: 0.8344 - val_loss: 0.3953 - val_accuracy: 0.8455\n",
      "Epoch 85/100\n",
      "8000/8000 [==============================] - 0s 60us/sample - loss: 0.3982 - accuracy: 0.8346 - val_loss: 0.3947 - val_accuracy: 0.8435\n",
      "Epoch 86/100\n",
      "8000/8000 [==============================] - 0s 56us/sample - loss: 0.3984 - accuracy: 0.8346 - val_loss: 0.3942 - val_accuracy: 0.8440\n",
      "Epoch 87/100\n",
      "8000/8000 [==============================] - 0s 58us/sample - loss: 0.3979 - accuracy: 0.8349 - val_loss: 0.3954 - val_accuracy: 0.8445\n",
      "Epoch 88/100\n",
      "8000/8000 [==============================] - 0s 57us/sample - loss: 0.3979 - accuracy: 0.8355 - val_loss: 0.3943 - val_accuracy: 0.8435\n",
      "Epoch 89/100\n",
      "8000/8000 [==============================] - 0s 58us/sample - loss: 0.3972 - accuracy: 0.8357 - val_loss: 0.3945 - val_accuracy: 0.8425\n",
      "Epoch 90/100\n",
      "8000/8000 [==============================] - 0s 60us/sample - loss: 0.3972 - accuracy: 0.8367 - val_loss: 0.3948 - val_accuracy: 0.8450\n",
      "Epoch 91/100\n",
      "8000/8000 [==============================] - 0s 58us/sample - loss: 0.3971 - accuracy: 0.8347 - val_loss: 0.3950 - val_accuracy: 0.8445\n",
      "Epoch 92/100\n",
      "8000/8000 [==============================] - 0s 58us/sample - loss: 0.3969 - accuracy: 0.8342 - val_loss: 0.3928 - val_accuracy: 0.8425\n",
      "Epoch 93/100\n",
      "8000/8000 [==============================] - 0s 56us/sample - loss: 0.3965 - accuracy: 0.8344 - val_loss: 0.3934 - val_accuracy: 0.8430\n",
      "Epoch 94/100\n",
      "8000/8000 [==============================] - 0s 59us/sample - loss: 0.3960 - accuracy: 0.8347 - val_loss: 0.3927 - val_accuracy: 0.8455\n",
      "Epoch 95/100\n",
      "8000/8000 [==============================] - 0s 59us/sample - loss: 0.3965 - accuracy: 0.8347 - val_loss: 0.3919 - val_accuracy: 0.8430\n",
      "Epoch 96/100\n",
      "8000/8000 [==============================] - 0s 59us/sample - loss: 0.3958 - accuracy: 0.8347 - val_loss: 0.3939 - val_accuracy: 0.8440\n",
      "Epoch 97/100\n",
      "8000/8000 [==============================] - 0s 56us/sample - loss: 0.3956 - accuracy: 0.8355 - val_loss: 0.3919 - val_accuracy: 0.8445\n",
      "Epoch 98/100\n",
      "8000/8000 [==============================] - 0s 60us/sample - loss: 0.3956 - accuracy: 0.8350 - val_loss: 0.3944 - val_accuracy: 0.8475\n",
      "Epoch 99/100\n",
      "8000/8000 [==============================] - 0s 58us/sample - loss: 0.3958 - accuracy: 0.8345 - val_loss: 0.3926 - val_accuracy: 0.8440\n",
      "Epoch 100/100\n",
      "8000/8000 [==============================] - 0s 62us/sample - loss: 0.3956 - accuracy: 0.8353 - val_loss: 0.3921 - val_accuracy: 0.8460\n"
     ]
    },
    {
     "data": {
      "text/plain": [
       "<tensorflow.python.keras.callbacks.History at 0x7fd7b035b5f8>"
      ]
     },
     "execution_count": 83,
     "metadata": {
      "tags": []
     },
     "output_type": "execute_result"
    }
   ],
   "source": [
    "Oclassifier.fit(X_train, y_train,           \n",
    "          validation_data=(X_test,y_test),\n",
    "          epochs=100,\n",
    "          batch_size=32)"
   ]
  },
  {
   "cell_type": "markdown",
   "metadata": {
    "colab_type": "text",
    "id": "ptZLKhZ0HURX"
   },
   "source": [
    "#### Predict the results using 0.5 as a threshold"
   ]
  },
  {
   "cell_type": "code",
   "execution_count": 84,
   "metadata": {
    "colab": {
     "base_uri": "https://localhost:8080/",
     "height": 141
    },
    "colab_type": "code",
    "id": "GttaoUVkHURZ",
    "outputId": "d15ea0d4-10a3-494b-9720-5bde3ceb0a54"
   },
   "outputs": [
    {
     "name": "stdout",
     "output_type": "stream",
     "text": [
      "[[0.18082818]\n",
      " [0.38070762]\n",
      " [0.14521003]\n",
      " ...\n",
      " [0.19639346]\n",
      " [0.12727576]\n",
      " [0.1147103 ]]\n"
     ]
    }
   ],
   "source": [
    "y_pred = Oclassifier.predict(X_test)\n",
    "print(y_pred)"
   ]
  },
  {
   "cell_type": "code",
   "execution_count": 85,
   "metadata": {
    "colab": {
     "base_uri": "https://localhost:8080/",
     "height": 141
    },
    "colab_type": "code",
    "id": "nPwZePRlHURf",
    "outputId": "7a1f42e2-f21a-4c1d-83ee-147d64419f0e"
   },
   "outputs": [
    {
     "name": "stdout",
     "output_type": "stream",
     "text": [
      "[[False]\n",
      " [False]\n",
      " [False]\n",
      " ...\n",
      " [False]\n",
      " [False]\n",
      " [False]]\n"
     ]
    }
   ],
   "source": [
    "# To use the confusion Matrix, we need to convert the probabilities that a customer will leave the bank into the form true or false. \n",
    "# So we will use the cutoff value 0.5 to indicate whether they are likely to exit or not.\n",
    "y_pred = (y_pred > 0.5)\n",
    "print(y_pred)"
   ]
  },
  {
   "cell_type": "markdown",
   "metadata": {
    "colab_type": "text",
    "id": "APzf2XxgHURk"
   },
   "source": [
    "#### Print the Accuracy score and confusion matrix"
   ]
  },
  {
   "cell_type": "code",
   "execution_count": 86,
   "metadata": {
    "colab": {
     "base_uri": "https://localhost:8080/",
     "height": 52
    },
    "colab_type": "code",
    "id": "8kC2hKKdHURm",
    "outputId": "0b290024-2fa2-450e-8486-4baf7b9fb8fd"
   },
   "outputs": [
    {
     "name": "stdout",
     "output_type": "stream",
     "text": [
      "[[1546   49]\n",
      " [ 259  146]]\n"
     ]
    }
   ],
   "source": [
    "cm2 = confusion_matrix(y_test, y_pred)\n",
    "print(cm2)"
   ]
  },
  {
   "cell_type": "code",
   "execution_count": 87,
   "metadata": {
    "colab": {
     "base_uri": "https://localhost:8080/",
     "height": 34
    },
    "colab_type": "code",
    "id": "KE3qpaFuHURp",
    "outputId": "2d1f47fc-e92c-4dc6-b149-ddfe8519e63e"
   },
   "outputs": [
    {
     "name": "stdout",
     "output_type": "stream",
     "text": [
      "84.6 % of testing data was classified correctly\n"
     ]
    }
   ],
   "source": [
    "accuracy_model2 = ((cm2[0][0]+cm2[1][1])*100)/(cm2[0][0]+cm2[1][1]+cm2[0][1]+cm2[1][0])\n",
    "print (accuracy_model2, '% of testing data was classified correctly')"
   ]
  },
  {
   "cell_type": "markdown",
   "metadata": {
    "colab_type": "text",
    "id": "kbRxXISJHURt"
   },
   "source": [
    "#### The optimised model gives better results as seen from the confusion matrix as well as improved accuracy.\n",
    "\n",
    "\n",
    "We encourage the learners to further look for optimizing the model and come up with better results.\n",
    "\n",
    "#### Happy Learning!"
   ]
  },
  {
   "cell_type": "code",
   "execution_count": 0,
   "metadata": {
    "colab": {},
    "colab_type": "code",
    "id": "_95dzAb18L4i"
   },
   "outputs": [],
   "source": []
  }
 ],
 "metadata": {
  "colab": {
   "name": "Project Solution Notebook - Bank Churn Prediction",
   "provenance": []
  },
  "kernelspec": {
   "display_name": "Python 3",
   "language": "python",
   "name": "python3"
  },
  "language_info": {
   "codemirror_mode": {
    "name": "ipython",
    "version": 3
   },
   "file_extension": ".py",
   "mimetype": "text/x-python",
   "name": "python",
   "nbconvert_exporter": "python",
   "pygments_lexer": "ipython3",
   "version": "3.7.3"
  }
 },
 "nbformat": 4,
 "nbformat_minor": 1
}
